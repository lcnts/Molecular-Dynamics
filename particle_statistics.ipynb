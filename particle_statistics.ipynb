{
 "cells": [
  {
   "cell_type": "markdown",
   "id": "9597b292-dc4e-487c-b6b6-0082b7e33e11",
   "metadata": {},
   "source": [
    "### Particle Statistics From Molecular Dynamics"
   ]
  },
  {
   "cell_type": "code",
   "execution_count": 2,
   "id": "4dfa1e19-6547-4e2c-8bdc-91ec18cdbdc7",
   "metadata": {},
   "outputs": [],
   "source": [
    "#simulator.positions[step, atom_index]\n",
    "#simulator.velocities[step, atom_index]"
   ]
  },
  {
   "cell_type": "code",
   "execution_count": 8,
   "id": "f2516372-a94a-43aa-992c-d6b3f65be856",
   "metadata": {},
   "outputs": [
    {
     "ename": "NameError",
     "evalue": "name 'total_steps' is not defined",
     "output_type": "error",
     "traceback": [
      "\u001b[0;31m---------------------------------------------------------------------------\u001b[0m",
      "\u001b[0;31mNameError\u001b[0m                                 Traceback (most recent call last)",
      "Cell \u001b[0;32mIn[8], line 7\u001b[0m\n\u001b[1;32m      5\u001b[0m all_atom_energy \u001b[38;5;241m=\u001b[39m []\n\u001b[1;32m      6\u001b[0m total_energy \u001b[38;5;241m=\u001b[39m []\n\u001b[0;32m----> 7\u001b[0m \u001b[38;5;28;01mfor\u001b[39;00m i \u001b[38;5;129;01min\u001b[39;00m \u001b[38;5;28mrange\u001b[39m(\u001b[43mtotal_steps\u001b[49m \u001b[38;5;241m+\u001b[39m \u001b[38;5;241m1\u001b[39m):\n\u001b[1;32m      8\u001b[0m     current_energy \u001b[38;5;241m=\u001b[39m \u001b[38;5;241m0\u001b[39m\n\u001b[1;32m      9\u001b[0m     step_atomic_energy \u001b[38;5;241m=\u001b[39m []\n",
      "\u001b[0;31mNameError\u001b[0m: name 'total_steps' is not defined"
     ]
    }
   ],
   "source": [
    "import numpy as np\n",
    "import matplotlib.pyplot as plt\n",
    "\n",
    "# Compute Energy\n",
    "all_atom_energy = []\n",
    "total_energy = []\n",
    "for i in range(total_steps + 1):\n",
    "    current_energy = 0\n",
    "    step_atomic_energy = []\n",
    "    for j in range(len(initial_positions)[1]):\n",
    "        atom_energy = mass * (velocities[0]**2 + velocities[1]**2 + velocities[2]**2) / 2\n",
    "        step_atomic_energy = [step_atomic_energy, atom_energy]\n",
    "    all_atom_energy = [[all_atom_energy],step_atomic_energy]\n",
    "    total_energy = [total_energy, np.sum(step_atomic_energy)]\n"
   ]
  },
  {
   "cell_type": "code",
   "execution_count": null,
   "id": "e0cedff5-1ea0-437e-a98d-58264ee310d1",
   "metadata": {},
   "outputs": [],
   "source": []
  }
 ],
 "metadata": {
  "kernelspec": {
   "display_name": "Python 3 (ipykernel)",
   "language": "python",
   "name": "python3"
  },
  "language_info": {
   "codemirror_mode": {
    "name": "ipython",
    "version": 3
   },
   "file_extension": ".py",
   "mimetype": "text/x-python",
   "name": "python",
   "nbconvert_exporter": "python",
   "pygments_lexer": "ipython3",
   "version": "3.12.7"
  }
 },
 "nbformat": 4,
 "nbformat_minor": 5
}
